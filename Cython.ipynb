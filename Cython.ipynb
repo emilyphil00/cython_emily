{
  "nbformat": 4,
  "nbformat_minor": 0,
  "metadata": {
    "colab": {
      "provenance": []
    },
    "kernelspec": {
      "name": "python3",
      "display_name": "Python 3"
    },
    "language_info": {
      "name": "python"
    }
  },
  "cells": [
    {
      "cell_type": "code",
      "execution_count": 11,
      "metadata": {
        "colab": {
          "base_uri": "https://localhost:8080/"
        },
        "id": "bkz5jIx5zZJN",
        "outputId": "892b0540-6cd2-43b3-d124-6d5a6434ab97"
      },
      "outputs": [
        {
          "output_type": "stream",
          "name": "stderr",
          "text": [
            "Content of stderr:\n",
            "In file included from /usr/local/lib/python3.10/dist-packages/numpy/core/include/numpy/ndarraytypes.h:1929,\n",
            "                 from /usr/local/lib/python3.10/dist-packages/numpy/core/include/numpy/ndarrayobject.h:12,\n",
            "                 from /usr/local/lib/python3.10/dist-packages/numpy/core/include/numpy/arrayobject.h:5,\n",
            "                 from /root/.cache/ipython/cython/_cython_magic_74bfba22a0cb35e85567cf4a341e0f2314d54b9b.c:1255:\n",
            "/usr/local/lib/python3.10/dist-packages/numpy/core/include/numpy/npy_1_7_deprecated_api.h:17:2: warning: #warning \"Using deprecated NumPy API, disable it with \" \"#define NPY_NO_DEPRECATED_API NPY_1_7_API_VERSION\" [-Wcpp]\n",
            "   17 | #warning \"Using deprecated NumPy API, disable it with \" \\\n",
            "      |  ^~~~~~~\n",
            "/root/.cache/ipython/cython/_cython_magic_74bfba22a0cb35e85567cf4a341e0f2314d54b9b.c:5186:23: error: redefinition of ‘__pyx_f_54_cython_magic_74bfba22a0cb35e85567cf4a341e0f2314d54b9b_cython_dot_with_nans’\n",
            " 5186 | static PyArrayObject *__pyx_f_54_cython_magic_74bfba22a0cb35e85567cf4a341e0f2314d54b9b_cython_dot_with_nans(PyArrayObject *__pyx_v_Q, PyArrayObject *__pyx_v_x) {\n",
            "      |                       ^~~~~~~~~~~~~~~~~~~~~~~~~~~~~~~~~~~~~~~~~~~~~~~~~~~~~~~~~~~~~~~~~~~~~~~~~~~~~~~~~~~~~\n",
            "/root/.cache/ipython/cython/_cython_magic_74bfba22a0cb35e85567cf4a341e0f2314d54b9b.c:4745:23: note: previous definition of ‘__pyx_f_54_cython_magic_74bfba22a0cb35e85567cf4a341e0f2314d54b9b_cython_dot_with_nans’ with type ‘PyArrayObject *(PyArrayObject *, PyArrayObject *)’ {aka ‘struct tagPyArrayObject_fields *(struct tagPyArrayObject_fields *, struct tagPyArrayObject_fields *)’}\n",
            " 4745 | static PyArrayObject *__pyx_f_54_cython_magic_74bfba22a0cb35e85567cf4a341e0f2314d54b9b_cython_dot_with_nans(PyArrayObject *__pyx_v_Q, PyArrayObject *__pyx_v_x) {\n",
            "      |                       ^~~~~~~~~~~~~~~~~~~~~~~~~~~~~~~~~~~~~~~~~~~~~~~~~~~~~~~~~~~~~~~~~~~~~~~~~~~~~~~~~~~~~\n",
            "/root/.cache/ipython/cython/_cython_magic_74bfba22a0cb35e85567cf4a341e0f2314d54b9b.c:6758:18: warning: ‘__pyx_f_54_cython_magic_74bfba22a0cb35e85567cf4a341e0f2314d54b9b_cython_loop’ defined but not used [-Wunused-function]\n",
            " 6758 | static PyObject *__pyx_f_54_cython_magic_74bfba22a0cb35e85567cf4a341e0f2314d54b9b_cython_loop(PyArrayObject *__pyx_v_A, PyArrayObject *__pyx_v_b, PyObject *__pyx_v_initial_points, PyObject *__pyx_v_bnds, PyObject *__pyx_v_cons) {\n",
            "      |                  ^~~~~~~~~~~~~~~~~~~~~~~~~~~~~~~~~~~~~~~~~~~~~~~~~~~~~~~~~~~~~~~~~~~~~~~~~~~~\n",
            "/root/.cache/ipython/cython/_cython_magic_74bfba22a0cb35e85567cf4a341e0f2314d54b9b.c:6043:15: warning: ‘__pyx_f_54_cython_magic_74bfba22a0cb35e85567cf4a341e0f2314d54b9b_cython_percentile_diff’ defined but not used [-Wunused-function]\n",
            " 6043 | static double __pyx_f_54_cython_magic_74bfba22a0cb35e85567cf4a341e0f2314d54b9b_cython_percentile_diff(PyArrayObject *__pyx_v_x, PyArrayObject *__pyx_v_V, PyArrayObject *__pyx_v_s, double __pyx_v_max_pctl) {\n",
            "      |               ^~~~~~~~~~~~~~~~~~~~~~~~~~~~~~~~~~~~~~~~~~~~~~~~~~~~~~~~~~~~~~~~~~~~~~~~~~~~~~~~~~~~~~~\n",
            "/root/.cache/ipython/cython/_cython_magic_74bfba22a0cb35e85567cf4a341e0f2314d54b9b.c:5835:15: warning: ‘__pyx_f_54_cython_magic_74bfba22a0cb35e85567cf4a341e0f2314d54b9b_cython_nanmedian’ defined but not used [-Wunused-function]\n",
            " 5835 | static double __pyx_f_54_cython_magic_74bfba22a0cb35e85567cf4a341e0f2314d54b9b_cython_nanmedian(PyArrayObject *__pyx_v_x, PyArrayObject *__pyx_v_Q, double __pyx_v_const) {\n",
            "      |               ^~~~~~~~~~~~~~~~~~~~~~~~~~~~~~~~~~~~~~~~~~~~~~~~~~~~~~~~~~~~~~~~~~~~~~~~~~~~~~~~~\n",
            "/root/.cache/ipython/cython/_cython_magic_74bfba22a0cb35e85567cf4a341e0f2314d54b9b.c:5627:15: warning: ‘__pyx_f_54_cython_magic_74bfba22a0cb35e85567cf4a341e0f2314d54b9b_cython_nanmin’ defined but not used [-Wunused-function]\n",
            " 5627 | static double __pyx_f_54_cython_magic_74bfba22a0cb35e85567cf4a341e0f2314d54b9b_cython_nanmin(PyArrayObject *__pyx_v_x, PyArrayObject *__pyx_v_Q, double __pyx_v_const) {\n",
            "      |               ^~~~~~~~~~~~~~~~~~~~~~~~~~~~~~~~~~~~~~~~~~~~~~~~~~~~~~~~~~~~~~~~~~~~~~~~~~~~~~\n",
            "/root/.cache/ipython/cython/_cython_magic_74bfba22a0cb35e85567cf4a341e0f2314d54b9b.c:4745:23: warning: ‘__pyx_f_54_cython_magic_74bfba22a0cb35e85567cf4a341e0f2314d54b9b_cython_dot_with_nans’ defined but not used [-Wunused-function]\n",
            " 4745 | static PyArrayObject *__pyx_f_54_cython_magic_74bfba22a0cb35e85567cf4a341e0f2314d54b9b_cython_dot_with_nans(PyArrayObject *__pyx_v_Q, PyArrayObject *__pyx_v_x) {\n",
            "      |                       ^~~~~~~~~~~~~~~~~~~~~~~~~~~~~~~~~~~~~~~~~~~~~~~~~~~~~~~~~~~~~~~~~~~~~~~~~~~~~~~~~~~~~"
          ]
        }
      ],
      "source": [
        "%%cython\n",
        "import numpy as np\n",
        "cimport numpy as np\n",
        "from scipy.optimize import minimize\n",
        "from libc.math cimport isnan\n",
        "from libc.math cimport fabs\n",
        "cimport cython.dataclasses.dataclass\n",
        "cimport cython.dataclasses.field\n",
        "from numpy cimport ndarray\n",
        "\n",
        "@cython.boundscheck(False)\n",
        "@cython.wraparound(False)\n",
        "cdef np.ndarray[np.float64_t, ndim=1] cython_dot_with_nans(np.ndarray[np.float64_t, ndim=1] Q, np.ndarray[np.float64_t, ndim=1] x):\n",
        "    cdef np.ndarray[np.float64_t, ndim=1] Z = Q.copy()\n",
        "    cdef np.ndarray[np.float64_t, ndim=1] nans_array = np.nansum(Z*Q+x, axis=1)\n",
        "    cdef Py_ssize_t i\n",
        "    for i in range(Z.shape[0]):\n",
        "        Z[i, len(Z)-1] = (Z[i, len(Z)-1].T * (1/(nans_array[i]+1))).T\n",
        "\n",
        "    cdef np.ndarray[np.float64_t, ndim=1] weighted_sum = np.nansum(Z*x, axis=1)\n",
        "    cdef Py_ssize_t j\n",
        "    for j in range(weighted_sum.shape[0]):\n",
        "        if nans_array[j]+1 < 0.5:\n",
        "            weighted_sum[j] = np.nan\n",
        "        elif isnan(Z[j, len(Z)-1]):\n",
        "            weighted_sum[j] = np.nan\n",
        "\n",
        "    return weighted_sum\n",
        "\n",
        "\n",
        "@cython.boundscheck(False)\n",
        "@cython.wraparound(False)\n",
        "cdef np.ndarray[np.float64_t, ndim=1] cython_dot_with_nans(np.ndarray[np.float64_t, ndim=1] Q, np.ndarray[np.float64_t, ndim=1] x):\n",
        "    cdef np.ndarray[np.float64_t, ndim=1] Z = Q.copy()\n",
        "    cdef np.ndarray[np.float64_t, ndim=1] nans_array = np.nansum(Z*Q+x, axis=1)\n",
        "    cdef Py_ssize_t i\n",
        "    for i in range(Z.shape[0]):\n",
        "        Z[i, len(Z)-1] = (Z[i, len(Z)-1].T * (1/(nans_array[i]+1))).T\n",
        "\n",
        "    cdef np.ndarray[np.float64_t, ndim=1] weighted_sum = np.nansum(Z*x, axis=1)\n",
        "    cdef Py_ssize_t j\n",
        "    for j in range(weighted_sum.shape[0]):\n",
        "        if nans_array[j]+1 < 0.5:\n",
        "            weighted_sum[j] = np.nan\n",
        "        elif isnan(Z[j, len(Z)-1]):\n",
        "            weighted_sum[j] = np.nan\n",
        "\n",
        "    return weighted_sum\n",
        "\n",
        "@cython.boundscheck(False)\n",
        "@cython.wraparound(False)\n",
        "cdef double cython_nanmin(np.ndarray[np.float64_t, ndim=1] x, np.ndarray[np.float64_t, ndim=1] Q, double const):\n",
        "    cdef np.ndarray[np.float64_t, ndim=1] x2 = np.append(x, -1)\n",
        "    cdef np.ndarray[np.float64_t, ndim=1] weighted_sum = cython_dot_with_nans(Q, x2)\n",
        "\n",
        "    return np.nanmin(weighted_sum) - const\n",
        "\n",
        "@cython.boundscheck(False)\n",
        "@cython.wraparound(False)\n",
        "cdef double cython_nanmedian(np.ndarray[np.float64_t, ndim=1] x, np.ndarray[np.float64_t, ndim=1] Q, double const):\n",
        "    cdef np.ndarray[np.float64_t, ndim=1] x2 = np.append(x, -1)\n",
        "    cdef np.ndarray[np.float64_t, ndim=1] weighted_sum = cython_dot_with_nans(Q, x2)\n",
        "\n",
        "    return np.nanmedian(weighted_sum) - const\n",
        "\n",
        "@cython.boundscheck(False)\n",
        "@cython.wraparound(False)\n",
        "cdef double cython_percentile_diff(np.ndarray[np.float64_t, ndim=1] x, np.ndarray[np.float64_t, ndim=1] V, np.ndarray[np.float64_t, ndim=1] s, double max_pctl):\n",
        "    cdef np.ndarray[np.float64_t, ndim=1] wi = np.append(x, -1)\n",
        "    cdef double ratio = np.sum(s*wi) / np.sum(V[len(V)-1]*wi)\n",
        "    cdef np.ndarray[np.float64_t, ndim=1] hist_offer = cython_dot_with_nans(V, wi)*ratio\n",
        "    cdef int lessthan = 0\n",
        "    cdef Py_ssize_t i\n",
        "    for i in range(hist_offer.shape[0]):\n",
        "        if hist_offer[i] < hist_offer[len(hist_offer)-1]:\n",
        "            lessthan += 1\n",
        "\n",
        "    cdef double percentile = lessthan / len(hist_offer)\n",
        "\n",
        "    return max_pctl - percentile\n",
        "\n",
        "\n",
        "@cython.boundscheck(False)\n",
        "@cython.wraparound(False)\n",
        "cdef object cython_minimize(np.ndarray[np.float64_t, ndim=1] A, np.ndarray[np.float64_t, ndim=1] b, np.ndarray[np.float64_t, ndim=1] x0, list bnds, list cons):\n",
        "    cdef object res = minimize(objective_function, args=(A, b), x0=x0, bounds=bnds, constraints=cons, options={'maxiter': 100})\n",
        "    return res\n",
        "\n",
        "@cython.boundscheck(False)\n",
        "@cython.wraparound(False)\n",
        "cdef double objective_function(np.ndarray[np.float64_t, ndim=1] x, np.ndarray[np.float64_t, ndim=1] A, np.ndarray[np.float64_t, ndim=1] b):\n",
        "    cdef np.ndarray[np.float64_t, ndim=1] A_dot_x = np.dot(A, x)\n",
        "    cdef double result = -np.linalg.norm(A_dot_x - b) ** 2\n",
        "    return result\n",
        "\n",
        "@cython.boundscheck(False)\n",
        "@cython.wraparound(False)\n",
        "cdef cython_loop(np.ndarray[np.float64_t, ndim=1] A, np.ndarray[np.float64_t, ndim=1] b, list initial_points, list bnds, list cons):\n",
        "    cdef object res\n",
        "    for x0 in initial_points:\n",
        "        res = cython_minimize(A, b, np.asarray(x0), bnds, cons)"
      ]
    },
    {
      "cell_type": "code",
      "source": [
        "%load_ext Cython"
      ],
      "metadata": {
        "id": "dPejX6PlzbQr"
      },
      "execution_count": 2,
      "outputs": []
    },
    {
      "cell_type": "code",
      "source": [],
      "metadata": {
        "id": "SXI2kzoBzbV3"
      },
      "execution_count": null,
      "outputs": []
    }
  ]
}